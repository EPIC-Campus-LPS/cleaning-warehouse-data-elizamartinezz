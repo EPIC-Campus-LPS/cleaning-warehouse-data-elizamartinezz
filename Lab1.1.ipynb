{
 "cells": [
  {
   "cell_type": "markdown",
   "id": "4e733e74",
   "metadata": {},
   "source": [
    "# Lab 1.1 - Cleaning and Analyzing Warehouse Data\n",
    "\n",
    "## Objective\n",
    "1. Import a CSV dataset using `pandas`\n",
    "2. Clean the dataset using multiple techniques\n",
    "3. Answer questions about using the data. \n",
    "\n",
    "*Use the challenge dataset to practice cleaning with regex.*\n",
    "\n",
    "## Rubric\n",
    "\n",
    "- 6 pts - Contains all required components and uses professional language\n",
    "- 5 pts - Contains all required components, but uses unprofessional language, formating, etc. \n",
    "- 4 pts - Contains some, but not all, of the required components\n",
    "- 3 pts - Did not submit\n",
    "\n",
    "## Pandas reference\n",
    "\n",
    "In addtion to the methods you learned last lab, you may need the following: \n",
    "\n",
    "- `df.dtypes` - the data types of the each column\n",
    "- `df.columns` - the name of each column\n",
    "- `df.shape` - the number of rows and columns of the dataset\n",
    "- `df.dropna()` - removes null values\n",
    "- `df.isnull()` - returns a dataframe with true/false values based on if the value is null. Can be used in conjuction with `.sum()`\n",
    "- `pd.todatetime(...)` - sets a given column to a `datetime` object\n",
    "- `df.column.isunique` - returns True if all data are unique\n",
    "- `df.column.unique()` - returns all of the uniue values of a column\n",
    "- `df['col'].replace(...,...)` - replaces values in a column with another value\n",
    "- `df['col'].value_counts()` - returns the value counts of each unique value\n",
    "- `df['col'].quantile(0.25)` or `.quartile(0.75) ` - returns the value at 25% or 75% precent    "
   ]
  },
  {
   "cell_type": "markdown",
   "id": "28f150c5",
   "metadata": {},
   "source": [
    "## Preparing Data\n",
    "\n",
    "In this section, we will import and prepare our data to be manipulated"
   ]
  },
  {
   "cell_type": "markdown",
   "id": "52ada7d4",
   "metadata": {
    "papermill": {
     "duration": 0.038675,
     "end_time": "2021-09-30T10:46:31.298979",
     "exception": false,
     "start_time": "2021-09-30T10:46:31.260304",
     "status": "completed"
    },
    "tags": []
   },
   "source": [
    "Import `pandas` and `matplotlib.pyplot` here."
   ]
  },
  {
   "cell_type": "code",
   "execution_count": 2,
   "id": "1f06bfd9",
   "metadata": {
    "_cell_guid": "b1076dfc-b9ad-4769-8c92-a6c4dae69d19",
    "_kg_hide-output": true,
    "_uuid": "8f2839f25d086af736a60e9eeb907d3b93b6e0e5",
    "execution": {
     "iopub.execute_input": "2021-09-30T10:46:31.398020Z",
     "iopub.status.busy": "2021-09-30T10:46:31.397426Z",
     "iopub.status.idle": "2021-09-30T10:46:32.326129Z",
     "shell.execute_reply": "2021-09-30T10:46:32.326865Z",
     "shell.execute_reply.started": "2021-09-30T10:33:53.316413Z"
    },
    "papermill": {
     "duration": 0.985961,
     "end_time": "2021-09-30T10:46:32.327246",
     "exception": false,
     "start_time": "2021-09-30T10:46:31.341285",
     "status": "completed"
    },
    "tags": []
   },
   "outputs": [],
   "source": [
    "import pandas as pd \n",
    "import matplotlib.pyplot"
   ]
  },
  {
   "cell_type": "markdown",
   "id": "0fbe1e52",
   "metadata": {
    "papermill": {
     "duration": 0.037963,
     "end_time": "2021-09-30T10:46:32.488863",
     "exception": false,
     "start_time": "2021-09-30T10:46:32.450900",
     "status": "completed"
    },
    "tags": []
   },
   "source": [
    "Use `pandas`' `read_csv()` to create a Dataframe called `warehouse`."
   ]
  },
  {
   "cell_type": "code",
   "execution_count": 3,
   "id": "c66adbd8",
   "metadata": {
    "execution": {
     "iopub.execute_input": "2021-09-30T10:46:32.570378Z",
     "iopub.status.busy": "2021-09-30T10:46:32.569557Z",
     "iopub.status.idle": "2021-09-30T10:46:32.590102Z",
     "shell.execute_reply": "2021-09-30T10:46:32.590545Z",
     "shell.execute_reply.started": "2021-09-30T10:34:04.717767Z"
    },
    "papermill": {
     "duration": 0.063675,
     "end_time": "2021-09-30T10:46:32.590736",
     "exception": false,
     "start_time": "2021-09-30T10:46:32.527061",
     "status": "completed"
    },
    "tags": []
   },
   "outputs": [],
   "source": [
    "warehouse = pd.read_csv(\"warehouse_data.csv\")"
   ]
  },
  {
   "cell_type": "markdown",
   "id": "c65992ea",
   "metadata": {},
   "source": [
    "Display the first 5 rows of `warehouse`."
   ]
  },
  {
   "cell_type": "code",
   "execution_count": 4,
   "id": "74ba8589",
   "metadata": {
    "execution": {
     "iopub.execute_input": "2021-09-30T10:46:32.677156Z",
     "iopub.status.busy": "2021-09-30T10:46:32.676562Z",
     "iopub.status.idle": "2021-09-30T10:46:32.701387Z",
     "shell.execute_reply": "2021-09-30T10:46:32.701908Z",
     "shell.execute_reply.started": "2021-09-30T10:34:06.514277Z"
    },
    "papermill": {
     "duration": 0.073154,
     "end_time": "2021-09-30T10:46:32.702068",
     "exception": false,
     "start_time": "2021-09-30T10:46:32.628914",
     "status": "completed"
    },
    "tags": []
   },
   "outputs": [
    {
     "data": {
      "text/html": [
       "<div>\n",
       "<style scoped>\n",
       "    .dataframe tbody tr th:only-of-type {\n",
       "        vertical-align: middle;\n",
       "    }\n",
       "\n",
       "    .dataframe tbody tr th {\n",
       "        vertical-align: top;\n",
       "    }\n",
       "\n",
       "    .dataframe thead th {\n",
       "        text-align: right;\n",
       "    }\n",
       "</style>\n",
       "<table border=\"1\" class=\"dataframe\">\n",
       "  <thead>\n",
       "    <tr style=\"text-align: right;\">\n",
       "      <th></th>\n",
       "      <th>order_id</th>\n",
       "      <th>customer_id</th>\n",
       "      <th>date</th>\n",
       "      <th>nearest_warehouse</th>\n",
       "      <th>shopping_cart</th>\n",
       "      <th>order_price</th>\n",
       "      <th>delivery_charges</th>\n",
       "      <th>customer_lat</th>\n",
       "      <th>customer_long</th>\n",
       "      <th>coupon_discount</th>\n",
       "      <th>order_total</th>\n",
       "      <th>season</th>\n",
       "      <th>is_expedited_delivery</th>\n",
       "      <th>distance_to_nearest_warehouse</th>\n",
       "      <th>latest_customer_review</th>\n",
       "      <th>is_happy_customer</th>\n",
       "    </tr>\n",
       "  </thead>\n",
       "  <tbody>\n",
       "    <tr>\n",
       "      <th>0</th>\n",
       "      <td>ORD182494</td>\n",
       "      <td>ID6197211592</td>\n",
       "      <td>2019-06-22</td>\n",
       "      <td>Thompson</td>\n",
       "      <td>[('Lucent 330S', 1), ('Thunder line', 2), ('iS...</td>\n",
       "      <td>12200</td>\n",
       "      <td>79.89</td>\n",
       "      <td>-37.815105</td>\n",
       "      <td>144.932843</td>\n",
       "      <td>10</td>\n",
       "      <td>11059.89</td>\n",
       "      <td>Winter</td>\n",
       "      <td>True</td>\n",
       "      <td>1.2800</td>\n",
       "      <td>perfect phone and trusted seller. phone itself...</td>\n",
       "      <td>True</td>\n",
       "    </tr>\n",
       "    <tr>\n",
       "      <th>1</th>\n",
       "      <td>ORD395518</td>\n",
       "      <td>ID0282825849</td>\n",
       "      <td>2019-12-29</td>\n",
       "      <td>Thompson</td>\n",
       "      <td>[('Thunder line', 1), ('Universe Note', 2)]</td>\n",
       "      <td>9080</td>\n",
       "      <td>62.71</td>\n",
       "      <td>-37.802736</td>\n",
       "      <td>144.951118</td>\n",
       "      <td>0</td>\n",
       "      <td>9142.71</td>\n",
       "      <td>Summer</td>\n",
       "      <td>False</td>\n",
       "      <td>1.1621</td>\n",
       "      <td>it keeps dropping calls the wifi don't work th...</td>\n",
       "      <td>False</td>\n",
       "    </tr>\n",
       "    <tr>\n",
       "      <th>2</th>\n",
       "      <td>ORD494479</td>\n",
       "      <td>ID0579391891</td>\n",
       "      <td>2019-03-02</td>\n",
       "      <td>Nickolson</td>\n",
       "      <td>[('Thunder line', 1), ('pearTV', 2)]</td>\n",
       "      <td>10670</td>\n",
       "      <td>65.87</td>\n",
       "      <td>-37.821302</td>\n",
       "      <td>144.957581</td>\n",
       "      <td>10</td>\n",
       "      <td>9668.87</td>\n",
       "      <td>Autumn</td>\n",
       "      <td>False</td>\n",
       "      <td>1.0949</td>\n",
       "      <td>five stars this is a great cheap phone.</td>\n",
       "      <td>True</td>\n",
       "    </tr>\n",
       "    <tr>\n",
       "      <th>3</th>\n",
       "      <td>ORD019224</td>\n",
       "      <td>ID4544561904</td>\n",
       "      <td>2019-01-12</td>\n",
       "      <td>Nickolson</td>\n",
       "      <td>[('Universe Note', 1), ('Alcon 10', 2), ('Oliv...</td>\n",
       "      <td>24800</td>\n",
       "      <td>57.61</td>\n",
       "      <td>-37.811416</td>\n",
       "      <td>144.973073</td>\n",
       "      <td>15</td>\n",
       "      <td>21137.61</td>\n",
       "      <td>Summer</td>\n",
       "      <td>False</td>\n",
       "      <td>0.8571</td>\n",
       "      <td>charger did not fit the charger didn't fit.</td>\n",
       "      <td>False</td>\n",
       "    </tr>\n",
       "    <tr>\n",
       "      <th>4</th>\n",
       "      <td>ORD104032</td>\n",
       "      <td>ID6231506320</td>\n",
       "      <td>2019-11-28</td>\n",
       "      <td>Nickolson</td>\n",
       "      <td>[('Universe Note', 1), ('Olivia x460', 1), ('i...</td>\n",
       "      <td>9145</td>\n",
       "      <td>75.54</td>\n",
       "      <td>37.823859</td>\n",
       "      <td>144.969892</td>\n",
       "      <td>25</td>\n",
       "      <td>6934.29</td>\n",
       "      <td>Spring</td>\n",
       "      <td>False</td>\n",
       "      <td>0.5867</td>\n",
       "      <td>four stars good</td>\n",
       "      <td>True</td>\n",
       "    </tr>\n",
       "  </tbody>\n",
       "</table>\n",
       "</div>"
      ],
      "text/plain": [
       "    order_id   customer_id        date nearest_warehouse  \\\n",
       "0  ORD182494  ID6197211592  2019-06-22          Thompson   \n",
       "1  ORD395518  ID0282825849  2019-12-29          Thompson   \n",
       "2  ORD494479  ID0579391891  2019-03-02         Nickolson   \n",
       "3  ORD019224  ID4544561904  2019-01-12         Nickolson   \n",
       "4  ORD104032  ID6231506320  2019-11-28         Nickolson   \n",
       "\n",
       "                                       shopping_cart  order_price  \\\n",
       "0  [('Lucent 330S', 1), ('Thunder line', 2), ('iS...        12200   \n",
       "1        [('Thunder line', 1), ('Universe Note', 2)]         9080   \n",
       "2               [('Thunder line', 1), ('pearTV', 2)]        10670   \n",
       "3  [('Universe Note', 1), ('Alcon 10', 2), ('Oliv...        24800   \n",
       "4  [('Universe Note', 1), ('Olivia x460', 1), ('i...         9145   \n",
       "\n",
       "   delivery_charges  customer_lat  customer_long  coupon_discount  \\\n",
       "0             79.89    -37.815105     144.932843               10   \n",
       "1             62.71    -37.802736     144.951118                0   \n",
       "2             65.87    -37.821302     144.957581               10   \n",
       "3             57.61    -37.811416     144.973073               15   \n",
       "4             75.54     37.823859     144.969892               25   \n",
       "\n",
       "   order_total  season  is_expedited_delivery  distance_to_nearest_warehouse  \\\n",
       "0     11059.89  Winter                   True                         1.2800   \n",
       "1      9142.71  Summer                  False                         1.1621   \n",
       "2      9668.87  Autumn                  False                         1.0949   \n",
       "3     21137.61  Summer                  False                         0.8571   \n",
       "4      6934.29  Spring                  False                         0.5867   \n",
       "\n",
       "                              latest_customer_review  is_happy_customer  \n",
       "0  perfect phone and trusted seller. phone itself...               True  \n",
       "1  it keeps dropping calls the wifi don't work th...              False  \n",
       "2            five stars this is a great cheap phone.               True  \n",
       "3        charger did not fit the charger didn't fit.              False  \n",
       "4                                    four stars good               True  "
      ]
     },
     "execution_count": 4,
     "metadata": {},
     "output_type": "execute_result"
    }
   ],
   "source": [
    "warehouse.head(5)"
   ]
  },
  {
   "cell_type": "markdown",
   "id": "20d3f58e",
   "metadata": {
    "papermill": {
     "duration": 0.038452,
     "end_time": "2021-09-30T10:46:32.778461",
     "exception": false,
     "start_time": "2021-09-30T10:46:32.740009",
     "status": "completed"
    },
    "tags": []
   },
   "source": [
    "Display the column names of the Dataframe. "
   ]
  },
  {
   "cell_type": "code",
   "execution_count": 5,
   "id": "88260be2",
   "metadata": {},
   "outputs": [
    {
     "data": {
      "text/plain": [
       "['order_id',\n",
       " 'customer_id',\n",
       " 'date',\n",
       " 'nearest_warehouse',\n",
       " 'shopping_cart',\n",
       " 'order_price',\n",
       " 'delivery_charges',\n",
       " 'customer_lat',\n",
       " 'customer_long',\n",
       " 'coupon_discount',\n",
       " 'order_total',\n",
       " 'season',\n",
       " 'is_expedited_delivery',\n",
       " 'distance_to_nearest_warehouse',\n",
       " 'latest_customer_review',\n",
       " 'is_happy_customer']"
      ]
     },
     "execution_count": 5,
     "metadata": {},
     "output_type": "execute_result"
    }
   ],
   "source": [
    "warehouse = pd.read_csv(\"warehouse_data.csv\")\n",
    "warehouse.columns.to_list()"
   ]
  },
  {
   "cell_type": "markdown",
   "id": "240bc28e",
   "metadata": {},
   "source": [
    "How many data points are in our table?"
   ]
  },
  {
   "cell_type": "code",
   "execution_count": 6,
   "id": "e84243e1",
   "metadata": {
    "execution": {
     "iopub.execute_input": "2021-09-30T10:46:32.974900Z",
     "iopub.status.busy": "2021-09-30T10:46:32.974280Z",
     "iopub.status.idle": "2021-09-30T10:46:32.976661Z",
     "shell.execute_reply": "2021-09-30T10:46:32.977077Z",
     "shell.execute_reply.started": "2021-09-30T10:34:26.853380Z"
    },
    "papermill": {
     "duration": 0.045857,
     "end_time": "2021-09-30T10:46:32.977249",
     "exception": false,
     "start_time": "2021-09-30T10:46:32.931392",
     "status": "completed"
    },
    "tags": []
   },
   "outputs": [
    {
     "data": {
      "text/plain": [
       "Index(['order_id', 'customer_id', 'date', 'nearest_warehouse', 'shopping_cart',\n",
       "       'order_price', 'delivery_charges', 'customer_lat', 'customer_long',\n",
       "       'coupon_discount', 'order_total', 'season', 'is_expedited_delivery',\n",
       "       'distance_to_nearest_warehouse', 'latest_customer_review',\n",
       "       'is_happy_customer'],\n",
       "      dtype='object')"
      ]
     },
     "execution_count": 6,
     "metadata": {},
     "output_type": "execute_result"
    }
   ],
   "source": [
    "warehouse.columns.unique()"
   ]
  },
  {
   "cell_type": "markdown",
   "id": "77fc703c",
   "metadata": {},
   "source": [
    "We can use one command to answer these three questions: \n",
    "- What is the average coupon discount?\n",
    "- What is the largest order price?\n",
    "- What is the smallest distance to warehouse?"
   ]
  },
  {
   "cell_type": "code",
   "execution_count": 7,
   "id": "4985109a",
   "metadata": {
    "execution": {
     "iopub.execute_input": "2021-09-30T10:46:32.858973Z",
     "iopub.status.busy": "2021-09-30T10:46:32.858420Z",
     "iopub.status.idle": "2021-09-30T10:46:32.892225Z",
     "shell.execute_reply": "2021-09-30T10:46:32.891765Z",
     "shell.execute_reply.started": "2021-09-30T10:34:11.847867Z"
    },
    "papermill": {
     "duration": 0.075351,
     "end_time": "2021-09-30T10:46:32.892391",
     "exception": false,
     "start_time": "2021-09-30T10:46:32.817040",
     "status": "completed"
    },
    "tags": []
   },
   "outputs": [
    {
     "name": "stdout",
     "output_type": "stream",
     "text": [
      "Coupon Discount mean: 10.89\n",
      "Largest Order Price: 947691\n",
      "Smallest Distance to Warehouse: 0.1078\n"
     ]
    }
   ],
   "source": [
    "print(\"Coupon Discount mean: \" + str(warehouse[\"coupon_discount\"].mean()))\n",
    "print(\"Largest Order Price: \" + str(warehouse[\"order_price\"].max()))\n",
    "print(\"Smallest Distance to Warehouse: \" + str(warehouse[\"distance_to_nearest_warehouse\"].min()))"
   ]
  },
  {
   "cell_type": "markdown",
   "id": "1f06fcb2",
   "metadata": {
    "papermill": {
     "duration": 0.040151,
     "end_time": "2021-09-30T10:46:33.056261",
     "exception": false,
     "start_time": "2021-09-30T10:46:33.016110",
     "status": "completed"
    },
    "tags": []
   },
   "source": [
    "## Cleaning Data\n",
    "\n",
    "**Data cleaning** is the process of removing errors and inaccuracies from data to make it ready for analysis In these next steps, we will explore and clean our dataset. \n",
    "\n",
    "\n",
    "Check the dataset for null(or empty) values. How many null values are there and in which columns?"
   ]
  },
  {
   "cell_type": "code",
   "execution_count": 8,
   "id": "9a542209",
   "metadata": {
    "execution": {
     "iopub.execute_input": "2021-09-30T10:46:33.139741Z",
     "iopub.status.busy": "2021-09-30T10:46:33.139096Z",
     "iopub.status.idle": "2021-09-30T10:46:33.146390Z",
     "shell.execute_reply": "2021-09-30T10:46:33.145893Z",
     "shell.execute_reply.started": "2021-09-30T10:34:33.745639Z"
    },
    "papermill": {
     "duration": 0.050226,
     "end_time": "2021-09-30T10:46:33.146527",
     "exception": false,
     "start_time": "2021-09-30T10:46:33.096301",
     "status": "completed"
    },
    "tags": []
   },
   "outputs": [
    {
     "name": "stdout",
     "output_type": "stream",
     "text": [
      "Null values: order_id                         0\n",
      "customer_id                      0\n",
      "date                             0\n",
      "nearest_warehouse                0\n",
      "shopping_cart                    0\n",
      "order_price                      0\n",
      "delivery_charges                 0\n",
      "customer_lat                     0\n",
      "customer_long                    0\n",
      "coupon_discount                  0\n",
      "order_total                      0\n",
      "season                           8\n",
      "is_expedited_delivery            0\n",
      "distance_to_nearest_warehouse    0\n",
      "latest_customer_review           1\n",
      "is_happy_customer                0\n",
      "dtype: int64\n"
     ]
    }
   ],
   "source": [
    "print(\"Null values: \" + str(warehouse.isnull().sum()))"
   ]
  },
  {
   "cell_type": "markdown",
   "id": "d73f856b",
   "metadata": {
    "papermill": {
     "duration": 0.049984,
     "end_time": "2021-09-30T10:46:33.241196",
     "exception": false,
     "start_time": "2021-09-30T10:46:33.191212",
     "status": "completed"
    },
    "tags": []
   },
   "source": [
    "So `season` and `latest_customer_review` have missing values. Fill the drop the rows with missing values. You should have 491 rows remaining."
   ]
  },
  {
   "cell_type": "code",
   "execution_count": 9,
   "id": "d7ac5820",
   "metadata": {},
   "outputs": [
    {
     "data": {
      "text/html": [
       "<div>\n",
       "<style scoped>\n",
       "    .dataframe tbody tr th:only-of-type {\n",
       "        vertical-align: middle;\n",
       "    }\n",
       "\n",
       "    .dataframe tbody tr th {\n",
       "        vertical-align: top;\n",
       "    }\n",
       "\n",
       "    .dataframe thead th {\n",
       "        text-align: right;\n",
       "    }\n",
       "</style>\n",
       "<table border=\"1\" class=\"dataframe\">\n",
       "  <thead>\n",
       "    <tr style=\"text-align: right;\">\n",
       "      <th></th>\n",
       "      <th>order_id</th>\n",
       "      <th>customer_id</th>\n",
       "      <th>date</th>\n",
       "      <th>nearest_warehouse</th>\n",
       "      <th>shopping_cart</th>\n",
       "      <th>order_price</th>\n",
       "      <th>delivery_charges</th>\n",
       "      <th>customer_lat</th>\n",
       "      <th>customer_long</th>\n",
       "      <th>coupon_discount</th>\n",
       "      <th>order_total</th>\n",
       "      <th>season</th>\n",
       "      <th>is_expedited_delivery</th>\n",
       "      <th>distance_to_nearest_warehouse</th>\n",
       "      <th>latest_customer_review</th>\n",
       "      <th>is_happy_customer</th>\n",
       "    </tr>\n",
       "  </thead>\n",
       "  <tbody>\n",
       "    <tr>\n",
       "      <th>0</th>\n",
       "      <td>ORD182494</td>\n",
       "      <td>ID6197211592</td>\n",
       "      <td>2019-06-22</td>\n",
       "      <td>Thompson</td>\n",
       "      <td>[('Lucent 330S', 1), ('Thunder line', 2), ('iS...</td>\n",
       "      <td>12200</td>\n",
       "      <td>79.89</td>\n",
       "      <td>-37.815105</td>\n",
       "      <td>144.932843</td>\n",
       "      <td>10</td>\n",
       "      <td>11059.89</td>\n",
       "      <td>Winter</td>\n",
       "      <td>True</td>\n",
       "      <td>1.2800</td>\n",
       "      <td>perfect phone and trusted seller. phone itself...</td>\n",
       "      <td>True</td>\n",
       "    </tr>\n",
       "    <tr>\n",
       "      <th>1</th>\n",
       "      <td>ORD395518</td>\n",
       "      <td>ID0282825849</td>\n",
       "      <td>2019-12-29</td>\n",
       "      <td>Thompson</td>\n",
       "      <td>[('Thunder line', 1), ('Universe Note', 2)]</td>\n",
       "      <td>9080</td>\n",
       "      <td>62.71</td>\n",
       "      <td>-37.802736</td>\n",
       "      <td>144.951118</td>\n",
       "      <td>0</td>\n",
       "      <td>9142.71</td>\n",
       "      <td>Summer</td>\n",
       "      <td>False</td>\n",
       "      <td>1.1621</td>\n",
       "      <td>it keeps dropping calls the wifi don't work th...</td>\n",
       "      <td>False</td>\n",
       "    </tr>\n",
       "    <tr>\n",
       "      <th>2</th>\n",
       "      <td>ORD494479</td>\n",
       "      <td>ID0579391891</td>\n",
       "      <td>2019-03-02</td>\n",
       "      <td>Nickolson</td>\n",
       "      <td>[('Thunder line', 1), ('pearTV', 2)]</td>\n",
       "      <td>10670</td>\n",
       "      <td>65.87</td>\n",
       "      <td>-37.821302</td>\n",
       "      <td>144.957581</td>\n",
       "      <td>10</td>\n",
       "      <td>9668.87</td>\n",
       "      <td>Autumn</td>\n",
       "      <td>False</td>\n",
       "      <td>1.0949</td>\n",
       "      <td>five stars this is a great cheap phone.</td>\n",
       "      <td>True</td>\n",
       "    </tr>\n",
       "    <tr>\n",
       "      <th>3</th>\n",
       "      <td>ORD019224</td>\n",
       "      <td>ID4544561904</td>\n",
       "      <td>2019-01-12</td>\n",
       "      <td>Nickolson</td>\n",
       "      <td>[('Universe Note', 1), ('Alcon 10', 2), ('Oliv...</td>\n",
       "      <td>24800</td>\n",
       "      <td>57.61</td>\n",
       "      <td>-37.811416</td>\n",
       "      <td>144.973073</td>\n",
       "      <td>15</td>\n",
       "      <td>21137.61</td>\n",
       "      <td>Summer</td>\n",
       "      <td>False</td>\n",
       "      <td>0.8571</td>\n",
       "      <td>charger did not fit the charger didn't fit.</td>\n",
       "      <td>False</td>\n",
       "    </tr>\n",
       "    <tr>\n",
       "      <th>4</th>\n",
       "      <td>ORD104032</td>\n",
       "      <td>ID6231506320</td>\n",
       "      <td>2019-11-28</td>\n",
       "      <td>Nickolson</td>\n",
       "      <td>[('Universe Note', 1), ('Olivia x460', 1), ('i...</td>\n",
       "      <td>9145</td>\n",
       "      <td>75.54</td>\n",
       "      <td>37.823859</td>\n",
       "      <td>144.969892</td>\n",
       "      <td>25</td>\n",
       "      <td>6934.29</td>\n",
       "      <td>Spring</td>\n",
       "      <td>False</td>\n",
       "      <td>0.5867</td>\n",
       "      <td>four stars good</td>\n",
       "      <td>True</td>\n",
       "    </tr>\n",
       "    <tr>\n",
       "      <th>...</th>\n",
       "      <td>...</td>\n",
       "      <td>...</td>\n",
       "      <td>...</td>\n",
       "      <td>...</td>\n",
       "      <td>...</td>\n",
       "      <td>...</td>\n",
       "      <td>...</td>\n",
       "      <td>...</td>\n",
       "      <td>...</td>\n",
       "      <td>...</td>\n",
       "      <td>...</td>\n",
       "      <td>...</td>\n",
       "      <td>...</td>\n",
       "      <td>...</td>\n",
       "      <td>...</td>\n",
       "      <td>...</td>\n",
       "    </tr>\n",
       "    <tr>\n",
       "      <th>495</th>\n",
       "      <td>ORD475510</td>\n",
       "      <td>ID0247417082</td>\n",
       "      <td>2019-08-07</td>\n",
       "      <td>Nickolson</td>\n",
       "      <td>[('Alcon 10', 2), ('iAssist Line', 2)]</td>\n",
       "      <td>386776</td>\n",
       "      <td>59.70</td>\n",
       "      <td>-37.817662</td>\n",
       "      <td>144.970405</td>\n",
       "      <td>10</td>\n",
       "      <td>20174.70</td>\n",
       "      <td>Winter</td>\n",
       "      <td>True</td>\n",
       "      <td>0.1282</td>\n",
       "      <td>i bought this phone to send to my sister in .....</td>\n",
       "      <td>False</td>\n",
       "    </tr>\n",
       "    <tr>\n",
       "      <th>496</th>\n",
       "      <td>ORD086060</td>\n",
       "      <td>ID0130015098</td>\n",
       "      <td>2019-03-28</td>\n",
       "      <td>Nickolson</td>\n",
       "      <td>[('pearTV', 2), ('Candle Inferno', 2), ('Toshi...</td>\n",
       "      <td>22120</td>\n",
       "      <td>62.29</td>\n",
       "      <td>-37.815469</td>\n",
       "      <td>144.968083</td>\n",
       "      <td>0</td>\n",
       "      <td>22182.29</td>\n",
       "      <td>Autumn</td>\n",
       "      <td>True</td>\n",
       "      <td>0.3711</td>\n",
       "      <td>one star it was the wrong phone</td>\n",
       "      <td>False</td>\n",
       "    </tr>\n",
       "    <tr>\n",
       "      <th>497</th>\n",
       "      <td>ORD079320</td>\n",
       "      <td>ID2707985442</td>\n",
       "      <td>2019-10-16</td>\n",
       "      <td>Nickolson</td>\n",
       "      <td>[('pearTV', 1), ('Alcon 10', 1), ('Lucent 330S...</td>\n",
       "      <td>16490</td>\n",
       "      <td>106.98</td>\n",
       "      <td>-37.805979</td>\n",
       "      <td>144.966101</td>\n",
       "      <td>0</td>\n",
       "      <td>16596.98</td>\n",
       "      <td>Spring</td>\n",
       "      <td>True</td>\n",
       "      <td>1.4368</td>\n",
       "      <td>love this phone! has many great features!</td>\n",
       "      <td>True</td>\n",
       "    </tr>\n",
       "    <tr>\n",
       "      <th>498</th>\n",
       "      <td>ORD026546</td>\n",
       "      <td>ID0060088412</td>\n",
       "      <td>2019-05-19</td>\n",
       "      <td>Nickolson</td>\n",
       "      <td>[('iStream', 1), ('Candle Inferno', 1), ('iAss...</td>\n",
       "      <td>5030</td>\n",
       "      <td>79.89</td>\n",
       "      <td>37.820071</td>\n",
       "      <td>144.984435</td>\n",
       "      <td>10</td>\n",
       "      <td>4606.89</td>\n",
       "      <td>Autumn</td>\n",
       "      <td>True</td>\n",
       "      <td>1.3191</td>\n",
       "      <td>spoiled son's birthday present son wanted one ...</td>\n",
       "      <td>True</td>\n",
       "    </tr>\n",
       "    <tr>\n",
       "      <th>499</th>\n",
       "      <td>ORD085447</td>\n",
       "      <td>ID5257193650</td>\n",
       "      <td>2019-05-25</td>\n",
       "      <td>Bakers</td>\n",
       "      <td>[('iStream', 1), ('Toshika 750', 1), ('Alcon 1...</td>\n",
       "      <td>22370</td>\n",
       "      <td>64.62</td>\n",
       "      <td>-37.812231</td>\n",
       "      <td>144.988679</td>\n",
       "      <td>15</td>\n",
       "      <td>19079.12</td>\n",
       "      <td>Autumn</td>\n",
       "      <td>True</td>\n",
       "      <td>0.6277</td>\n",
       "      <td>two stars the phone is way smaller then it loo...</td>\n",
       "      <td>False</td>\n",
       "    </tr>\n",
       "  </tbody>\n",
       "</table>\n",
       "<p>491 rows × 16 columns</p>\n",
       "</div>"
      ],
      "text/plain": [
       "      order_id   customer_id        date nearest_warehouse  \\\n",
       "0    ORD182494  ID6197211592  2019-06-22          Thompson   \n",
       "1    ORD395518  ID0282825849  2019-12-29          Thompson   \n",
       "2    ORD494479  ID0579391891  2019-03-02         Nickolson   \n",
       "3    ORD019224  ID4544561904  2019-01-12         Nickolson   \n",
       "4    ORD104032  ID6231506320  2019-11-28         Nickolson   \n",
       "..         ...           ...         ...               ...   \n",
       "495  ORD475510  ID0247417082  2019-08-07         Nickolson   \n",
       "496  ORD086060  ID0130015098  2019-03-28         Nickolson   \n",
       "497  ORD079320  ID2707985442  2019-10-16         Nickolson   \n",
       "498  ORD026546  ID0060088412  2019-05-19         Nickolson   \n",
       "499  ORD085447  ID5257193650  2019-05-25            Bakers   \n",
       "\n",
       "                                         shopping_cart  order_price  \\\n",
       "0    [('Lucent 330S', 1), ('Thunder line', 2), ('iS...        12200   \n",
       "1          [('Thunder line', 1), ('Universe Note', 2)]         9080   \n",
       "2                 [('Thunder line', 1), ('pearTV', 2)]        10670   \n",
       "3    [('Universe Note', 1), ('Alcon 10', 2), ('Oliv...        24800   \n",
       "4    [('Universe Note', 1), ('Olivia x460', 1), ('i...         9145   \n",
       "..                                                 ...          ...   \n",
       "495             [('Alcon 10', 2), ('iAssist Line', 2)]       386776   \n",
       "496  [('pearTV', 2), ('Candle Inferno', 2), ('Toshi...        22120   \n",
       "497  [('pearTV', 1), ('Alcon 10', 1), ('Lucent 330S...        16490   \n",
       "498  [('iStream', 1), ('Candle Inferno', 1), ('iAss...         5030   \n",
       "499  [('iStream', 1), ('Toshika 750', 1), ('Alcon 1...        22370   \n",
       "\n",
       "     delivery_charges  customer_lat  customer_long  coupon_discount  \\\n",
       "0               79.89    -37.815105     144.932843               10   \n",
       "1               62.71    -37.802736     144.951118                0   \n",
       "2               65.87    -37.821302     144.957581               10   \n",
       "3               57.61    -37.811416     144.973073               15   \n",
       "4               75.54     37.823859     144.969892               25   \n",
       "..                ...           ...            ...              ...   \n",
       "495             59.70    -37.817662     144.970405               10   \n",
       "496             62.29    -37.815469     144.968083                0   \n",
       "497            106.98    -37.805979     144.966101                0   \n",
       "498             79.89     37.820071     144.984435               10   \n",
       "499             64.62    -37.812231     144.988679               15   \n",
       "\n",
       "     order_total  season  is_expedited_delivery  \\\n",
       "0       11059.89  Winter                   True   \n",
       "1        9142.71  Summer                  False   \n",
       "2        9668.87  Autumn                  False   \n",
       "3       21137.61  Summer                  False   \n",
       "4        6934.29  Spring                  False   \n",
       "..           ...     ...                    ...   \n",
       "495     20174.70  Winter                   True   \n",
       "496     22182.29  Autumn                   True   \n",
       "497     16596.98  Spring                   True   \n",
       "498      4606.89  Autumn                   True   \n",
       "499     19079.12  Autumn                   True   \n",
       "\n",
       "     distance_to_nearest_warehouse  \\\n",
       "0                           1.2800   \n",
       "1                           1.1621   \n",
       "2                           1.0949   \n",
       "3                           0.8571   \n",
       "4                           0.5867   \n",
       "..                             ...   \n",
       "495                         0.1282   \n",
       "496                         0.3711   \n",
       "497                         1.4368   \n",
       "498                         1.3191   \n",
       "499                         0.6277   \n",
       "\n",
       "                                latest_customer_review  is_happy_customer  \n",
       "0    perfect phone and trusted seller. phone itself...               True  \n",
       "1    it keeps dropping calls the wifi don't work th...              False  \n",
       "2              five stars this is a great cheap phone.               True  \n",
       "3          charger did not fit the charger didn't fit.              False  \n",
       "4                                      four stars good               True  \n",
       "..                                                 ...                ...  \n",
       "495  i bought this phone to send to my sister in .....              False  \n",
       "496                    one star it was the wrong phone              False  \n",
       "497          love this phone! has many great features!               True  \n",
       "498  spoiled son's birthday present son wanted one ...               True  \n",
       "499  two stars the phone is way smaller then it loo...              False  \n",
       "\n",
       "[491 rows x 16 columns]"
      ]
     },
     "execution_count": 9,
     "metadata": {},
     "output_type": "execute_result"
    }
   ],
   "source": [
    "warehouse.dropna()\n",
    "\n"
   ]
  },
  {
   "cell_type": "markdown",
   "id": "dbdf18b3",
   "metadata": {
    "papermill": {
     "duration": 0.038259,
     "end_time": "2021-09-30T10:46:33.328947",
     "exception": false,
     "start_time": "2021-09-30T10:46:33.290688",
     "status": "completed"
    },
    "tags": []
   },
   "source": [
    "Now let's take a look at the data types of each column and see if they make sense."
   ]
  },
  {
   "cell_type": "code",
   "execution_count": 10,
   "id": "19482862",
   "metadata": {
    "execution": {
     "iopub.execute_input": "2021-09-30T10:46:33.410130Z",
     "iopub.status.busy": "2021-09-30T10:46:33.409596Z",
     "iopub.status.idle": "2021-09-30T10:46:33.415806Z",
     "shell.execute_reply": "2021-09-30T10:46:33.416180Z",
     "shell.execute_reply.started": "2021-07-20T12:04:08.792931Z"
    },
    "papermill": {
     "duration": 0.048126,
     "end_time": "2021-09-30T10:46:33.416350",
     "exception": false,
     "start_time": "2021-09-30T10:46:33.368224",
     "status": "completed"
    },
    "tags": []
   },
   "outputs": [
    {
     "data": {
      "text/plain": [
       "order_id                          object\n",
       "customer_id                       object\n",
       "date                              object\n",
       "nearest_warehouse                 object\n",
       "shopping_cart                     object\n",
       "order_price                        int64\n",
       "delivery_charges                 float64\n",
       "customer_lat                     float64\n",
       "customer_long                    float64\n",
       "coupon_discount                    int64\n",
       "order_total                      float64\n",
       "season                            object\n",
       "is_expedited_delivery               bool\n",
       "distance_to_nearest_warehouse    float64\n",
       "latest_customer_review            object\n",
       "is_happy_customer                   bool\n",
       "dtype: object"
      ]
     },
     "execution_count": 10,
     "metadata": {},
     "output_type": "execute_result"
    }
   ],
   "source": [
    "warehouse.dtypes"
   ]
  },
  {
   "cell_type": "markdown",
   "id": "bc2043c5",
   "metadata": {
    "papermill": {
     "duration": 0.038985,
     "end_time": "2021-09-30T10:46:33.494757",
     "exception": false,
     "start_time": "2021-09-30T10:46:33.455772",
     "status": "completed"
    },
    "tags": []
   },
   "source": [
    "Data type of date column is object instead of datetime. So fix this problem and check the datatypes again."
   ]
  },
  {
   "cell_type": "code",
   "execution_count": 11,
   "id": "a23b2234",
   "metadata": {
    "execution": {
     "iopub.execute_input": "2021-09-30T10:46:33.576835Z",
     "iopub.status.busy": "2021-09-30T10:46:33.576207Z",
     "iopub.status.idle": "2021-09-30T10:46:33.583079Z",
     "shell.execute_reply": "2021-09-30T10:46:33.583565Z",
     "shell.execute_reply.started": "2021-07-20T12:04:08.804812Z"
    },
    "papermill": {
     "duration": 0.049543,
     "end_time": "2021-09-30T10:46:33.583729",
     "exception": false,
     "start_time": "2021-09-30T10:46:33.534186",
     "status": "completed"
    },
    "tags": []
   },
   "outputs": [
    {
     "name": "stderr",
     "output_type": "stream",
     "text": [
      "/tmp/ipykernel_8211/985991126.py:1: FutureWarning: Series.replace without 'value' and with non-dict-like 'to_replace' is deprecated and will raise in a future version. Explicitly specify the new values instead.\n",
      "  warehouse[\"date\"].replace()\n"
     ]
    },
    {
     "data": {
      "text/plain": [
       "0      2019-06-22\n",
       "1      2019-12-29\n",
       "2      2019-03-02\n",
       "3      2019-01-12\n",
       "4      2019-11-28\n",
       "          ...    \n",
       "495    2019-08-07\n",
       "496    2019-03-28\n",
       "497    2019-10-16\n",
       "498    2019-05-19\n",
       "499    2019-05-25\n",
       "Name: date, Length: 500, dtype: object"
      ]
     },
     "execution_count": 11,
     "metadata": {},
     "output_type": "execute_result"
    }
   ],
   "source": [
    "warehouse[\"date\"].replace()"
   ]
  },
  {
   "cell_type": "code",
   "execution_count": 12,
   "id": "89116c27",
   "metadata": {
    "execution": {
     "iopub.execute_input": "2021-09-30T10:46:33.753680Z",
     "iopub.status.busy": "2021-09-30T10:46:33.753058Z",
     "iopub.status.idle": "2021-09-30T10:46:33.759278Z",
     "shell.execute_reply": "2021-09-30T10:46:33.759946Z",
     "shell.execute_reply.started": "2021-07-20T12:04:08.831341Z"
    },
    "papermill": {
     "duration": 0.049031,
     "end_time": "2021-09-30T10:46:33.760124",
     "exception": false,
     "start_time": "2021-09-30T10:46:33.711093",
     "status": "completed"
    },
    "tags": []
   },
   "outputs": [
    {
     "data": {
      "text/plain": [
       "order_id                          object\n",
       "customer_id                       object\n",
       "date                              object\n",
       "nearest_warehouse                 object\n",
       "shopping_cart                     object\n",
       "order_price                        int64\n",
       "delivery_charges                 float64\n",
       "customer_lat                     float64\n",
       "customer_long                    float64\n",
       "coupon_discount                    int64\n",
       "order_total                      float64\n",
       "season                            object\n",
       "is_expedited_delivery               bool\n",
       "distance_to_nearest_warehouse    float64\n",
       "latest_customer_review            object\n",
       "is_happy_customer                   bool\n",
       "dtype: object"
      ]
     },
     "execution_count": 12,
     "metadata": {},
     "output_type": "execute_result"
    }
   ],
   "source": [
    "warehouse.dtypes"
   ]
  },
  {
   "cell_type": "markdown",
   "id": "499d70bc",
   "metadata": {
    "papermill": {
     "duration": 0.039925,
     "end_time": "2021-09-30T10:46:33.920379",
     "exception": false,
     "start_time": "2021-09-30T10:46:33.880454",
     "status": "completed"
    },
    "tags": []
   },
   "source": [
    "Now let's check for errors. \n",
    "\n",
    "First, let's make sure that our data in `order_id` is unique and we don't have any duplicates. "
   ]
  },
  {
   "cell_type": "code",
   "execution_count": 13,
   "id": "0a6b97f2",
   "metadata": {
    "execution": {
     "iopub.execute_input": "2021-09-30T10:46:34.003748Z",
     "iopub.status.busy": "2021-09-30T10:46:34.002782Z",
     "iopub.status.idle": "2021-09-30T10:46:34.011062Z",
     "shell.execute_reply": "2021-09-30T10:46:34.010545Z",
     "shell.execute_reply.started": "2021-07-20T12:04:08.845402Z"
    },
    "papermill": {
     "duration": 0.05077,
     "end_time": "2021-09-30T10:46:34.011201",
     "exception": false,
     "start_time": "2021-09-30T10:46:33.960431",
     "status": "completed"
    },
    "tags": []
   },
   "outputs": [
    {
     "data": {
      "text/plain": [
       "<bound method Series.duplicated of 0      ORD182494\n",
       "1      ORD395518\n",
       "2      ORD494479\n",
       "3      ORD019224\n",
       "4      ORD104032\n",
       "         ...    \n",
       "495    ORD475510\n",
       "496    ORD086060\n",
       "497    ORD079320\n",
       "498    ORD026546\n",
       "499    ORD085447\n",
       "Name: order_id, Length: 500, dtype: object>"
      ]
     },
     "execution_count": 13,
     "metadata": {},
     "output_type": "execute_result"
    }
   ],
   "source": [
    "warehouse.order_id.duplicated"
   ]
  },
  {
   "cell_type": "markdown",
   "id": "b4e7f0cc",
   "metadata": {
    "papermill": {
     "duration": 0.040628,
     "end_time": "2021-09-30T10:46:34.175325",
     "exception": false,
     "start_time": "2021-09-30T10:46:34.134697",
     "status": "completed"
    },
    "tags": []
   },
   "source": [
    "Now, let's check what the unique values of `nearest_warehouse` are."
   ]
  },
  {
   "cell_type": "code",
   "execution_count": 14,
   "id": "48f96ade",
   "metadata": {
    "execution": {
     "iopub.execute_input": "2021-09-30T10:46:34.263624Z",
     "iopub.status.busy": "2021-09-30T10:46:34.262626Z",
     "iopub.status.idle": "2021-09-30T10:46:34.267062Z",
     "shell.execute_reply": "2021-09-30T10:46:34.266456Z",
     "shell.execute_reply.started": "2021-07-20T12:04:08.856406Z"
    },
    "papermill": {
     "duration": 0.051065,
     "end_time": "2021-09-30T10:46:34.267209",
     "exception": false,
     "start_time": "2021-09-30T10:46:34.216144",
     "status": "completed"
    },
    "tags": []
   },
   "outputs": [
    {
     "data": {
      "text/plain": [
       "array(['Thompson', 'Nickolson', 'Bakers', 'nickolson', 'thompson'],\n",
       "      dtype=object)"
      ]
     },
     "execution_count": 14,
     "metadata": {},
     "output_type": "execute_result"
    }
   ],
   "source": [
    "warehouse[\"nearest_warehouse\"].unique()"
   ]
  },
  {
   "cell_type": "markdown",
   "id": "6c613b5b",
   "metadata": {
    "papermill": {
     "duration": 0.04021,
     "end_time": "2021-09-30T10:46:34.348333",
     "exception": false,
     "start_time": "2021-09-30T10:46:34.308123",
     "status": "completed"
    },
    "tags": []
   },
   "source": [
    "Thompson and thompson should be the same, but here they are being counted as different warehouse. Similarly Nickolson and nickolson are same. Change all of the lowercase names to Title case. "
   ]
  },
  {
   "cell_type": "code",
   "execution_count": 15,
   "id": "4d5e1229",
   "metadata": {},
   "outputs": [
    {
     "data": {
      "text/plain": [
       "array(['thompson', 'nickolson', 'bakers'], dtype=object)"
      ]
     },
     "execution_count": 15,
     "metadata": {},
     "output_type": "execute_result"
    }
   ],
   "source": [
    "warehouse[\"nearest_warehouse\"].str.lower().unique()"
   ]
  },
  {
   "cell_type": "markdown",
   "id": "5f23c91e",
   "metadata": {
    "papermill": {
     "duration": 0.041069,
     "end_time": "2021-09-30T10:46:34.773298",
     "exception": false,
     "start_time": "2021-09-30T10:46:34.732229",
     "status": "completed"
    },
    "tags": []
   },
   "source": [
    "Check the quantities of each `nearest_warehouse`."
   ]
  },
  {
   "cell_type": "code",
   "execution_count": 16,
   "id": "a9d3c963",
   "metadata": {
    "execution": {
     "iopub.execute_input": "2021-09-30T10:46:34.864472Z",
     "iopub.status.busy": "2021-09-30T10:46:34.863833Z",
     "iopub.status.idle": "2021-09-30T10:46:34.866499Z",
     "shell.execute_reply": "2021-09-30T10:46:34.866963Z",
     "shell.execute_reply.started": "2021-07-20T12:04:08.889173Z"
    },
    "papermill": {
     "duration": 0.05257,
     "end_time": "2021-09-30T10:46:34.867124",
     "exception": false,
     "start_time": "2021-09-30T10:46:34.814554",
     "status": "completed"
    },
    "tags": []
   },
   "outputs": [
    {
     "data": {
      "text/plain": [
       "nearest_warehouse\n",
       "thompson     197\n",
       "nickolson    184\n",
       "bakers       119\n",
       "Name: count, dtype: int64"
      ]
     },
     "execution_count": 16,
     "metadata": {},
     "output_type": "execute_result"
    }
   ],
   "source": [
    "warehouse[\"nearest_warehouse\"] = warehouse[\"nearest_warehouse\"].str.lower()\n",
    "warehouse[\"nearest_warehouse\"].value_counts()"
   ]
  },
  {
   "cell_type": "markdown",
   "id": "f68e5e54",
   "metadata": {},
   "source": [
    "The value counts should be Thompson: 192, Nickolson: 183, Bakers: 116"
   ]
  },
  {
   "cell_type": "markdown",
   "id": "1d8679b4",
   "metadata": {},
   "source": [
    "Check the counts and unique values of `is_happy_customer`."
   ]
  },
  {
   "cell_type": "code",
   "execution_count": 17,
   "id": "741621ad",
   "metadata": {
    "execution": {
     "iopub.execute_input": "2021-09-30T10:46:39.468287Z",
     "iopub.status.busy": "2021-09-30T10:46:39.467342Z",
     "iopub.status.idle": "2021-09-30T10:46:39.471157Z",
     "shell.execute_reply": "2021-09-30T10:46:39.471612Z",
     "shell.execute_reply.started": "2021-07-20T12:04:09.600082Z"
    },
    "papermill": {
     "duration": 0.059663,
     "end_time": "2021-09-30T10:46:39.471795",
     "exception": false,
     "start_time": "2021-09-30T10:46:39.412132",
     "status": "completed"
    },
    "tags": []
   },
   "outputs": [
    {
     "name": "stdout",
     "output_type": "stream",
     "text": [
      "[Happy Other] -> [359 141]\n"
     ]
    }
   ],
   "source": [
    "warehouse[\"is_happy_customer\"].value_counts().unique()\n",
    "print(\"[Happy Other] -> \" + str(warehouse[\"is_happy_customer\"].value_counts().unique()))"
   ]
  },
  {
   "cell_type": "markdown",
   "id": "59053f19",
   "metadata": {
    "papermill": {
     "duration": 0.043168,
     "end_time": "2021-09-30T10:46:36.149055",
     "exception": false,
     "start_time": "2021-09-30T10:46:36.105887",
     "status": "completed"
    },
    "tags": []
   },
   "source": [
    "Create a table with `order_price`, `delivery_charges`, `coupon_discount`, and `order_total`. Look at the first 10 rows. Is the `order_total` column correct?"
   ]
  },
  {
   "cell_type": "code",
   "execution_count": 18,
   "id": "9cda2da2",
   "metadata": {
    "execution": {
     "iopub.execute_input": "2021-09-30T10:46:36.240445Z",
     "iopub.status.busy": "2021-09-30T10:46:36.239761Z",
     "iopub.status.idle": "2021-09-30T10:46:36.252176Z",
     "shell.execute_reply": "2021-09-30T10:46:36.252675Z",
     "shell.execute_reply.started": "2021-07-20T12:04:09.310222Z"
    },
    "papermill": {
     "duration": 0.059633,
     "end_time": "2021-09-30T10:46:36.252846",
     "exception": false,
     "start_time": "2021-09-30T10:46:36.193213",
     "status": "completed"
    },
    "tags": []
   },
   "outputs": [
    {
     "data": {
      "text/html": [
       "<div>\n",
       "<style scoped>\n",
       "    .dataframe tbody tr th:only-of-type {\n",
       "        vertical-align: middle;\n",
       "    }\n",
       "\n",
       "    .dataframe tbody tr th {\n",
       "        vertical-align: top;\n",
       "    }\n",
       "\n",
       "    .dataframe thead th {\n",
       "        text-align: right;\n",
       "    }\n",
       "</style>\n",
       "<table border=\"1\" class=\"dataframe\">\n",
       "  <thead>\n",
       "    <tr style=\"text-align: right;\">\n",
       "      <th></th>\n",
       "      <th>order_total</th>\n",
       "    </tr>\n",
       "  </thead>\n",
       "  <tbody>\n",
       "    <tr>\n",
       "      <th>0</th>\n",
       "      <td>12289.89</td>\n",
       "    </tr>\n",
       "    <tr>\n",
       "      <th>1</th>\n",
       "      <td>9142.71</td>\n",
       "    </tr>\n",
       "    <tr>\n",
       "      <th>2</th>\n",
       "      <td>10745.87</td>\n",
       "    </tr>\n",
       "    <tr>\n",
       "      <th>3</th>\n",
       "      <td>24872.61</td>\n",
       "    </tr>\n",
       "    <tr>\n",
       "      <th>4</th>\n",
       "      <td>9245.54</td>\n",
       "    </tr>\n",
       "    <tr>\n",
       "      <th>...</th>\n",
       "      <td>...</td>\n",
       "    </tr>\n",
       "    <tr>\n",
       "      <th>495</th>\n",
       "      <td>386845.70</td>\n",
       "    </tr>\n",
       "    <tr>\n",
       "      <th>496</th>\n",
       "      <td>22182.29</td>\n",
       "    </tr>\n",
       "    <tr>\n",
       "      <th>497</th>\n",
       "      <td>16596.98</td>\n",
       "    </tr>\n",
       "    <tr>\n",
       "      <th>498</th>\n",
       "      <td>5119.89</td>\n",
       "    </tr>\n",
       "    <tr>\n",
       "      <th>499</th>\n",
       "      <td>22449.62</td>\n",
       "    </tr>\n",
       "  </tbody>\n",
       "</table>\n",
       "<p>500 rows × 1 columns</p>\n",
       "</div>"
      ],
      "text/plain": [
       "     order_total\n",
       "0       12289.89\n",
       "1        9142.71\n",
       "2       10745.87\n",
       "3       24872.61\n",
       "4        9245.54\n",
       "..           ...\n",
       "495    386845.70\n",
       "496     22182.29\n",
       "497     16596.98\n",
       "498      5119.89\n",
       "499     22449.62\n",
       "\n",
       "[500 rows x 1 columns]"
      ]
     },
     "execution_count": 18,
     "metadata": {},
     "output_type": "execute_result"
    }
   ],
   "source": [
    "\n",
    "warehouse[\"order_total\"] = warehouse[\"order_price\"] + warehouse[\"delivery_charges\"] + warehouse[\"coupon_discount\"]\n",
    "pd.DataFrame(warehouse[\"order_total\"])\n",
    "#pd.DataFrame(warehouse)"
   ]
  },
  {
   "cell_type": "markdown",
   "id": "736ea419",
   "metadata": {
    "papermill": {
     "duration": 0.044082,
     "end_time": "2021-09-30T10:46:37.387726",
     "exception": false,
     "start_time": "2021-09-30T10:46:37.343644",
     "status": "completed"
    },
    "tags": []
   },
   "source": [
    "### Remove Outliers\n",
    "\n",
    "We are going to remove statistical outliers in `order_total`. To remove outliers, follow this process:\n",
    "\n",
    "- Find upper and lower quartiles\n",
    "- Find IQR range\n",
    "- Find upper and lower limit\n",
    "- Remove elements "
   ]
  },
  {
   "cell_type": "code",
   "execution_count": 19,
   "id": "384baa40",
   "metadata": {
    "execution": {
     "iopub.execute_input": "2021-09-30T10:46:37.479914Z",
     "iopub.status.busy": "2021-09-30T10:46:37.479293Z",
     "iopub.status.idle": "2021-09-30T10:46:37.485615Z",
     "shell.execute_reply": "2021-09-30T10:46:37.486112Z",
     "shell.execute_reply.started": "2021-07-20T12:04:09.411353Z"
    },
    "papermill": {
     "duration": 0.053701,
     "end_time": "2021-09-30T10:46:37.486300",
     "exception": false,
     "start_time": "2021-09-30T10:46:37.432599",
     "status": "completed"
    },
    "tags": []
   },
   "outputs": [
    {
     "data": {
      "text/plain": [
       "7141.645"
      ]
     },
     "execution_count": 19,
     "metadata": {},
     "output_type": "execute_result"
    }
   ],
   "source": [
    "warehouse[\"order_total\"].quantile(0.25)"
   ]
  },
  {
   "cell_type": "code",
   "execution_count": 20,
   "id": "16b66f48",
   "metadata": {
    "execution": {
     "iopub.execute_input": "2021-09-30T10:46:37.765589Z",
     "iopub.status.busy": "2021-09-30T10:46:37.764974Z",
     "iopub.status.idle": "2021-09-30T10:46:37.767589Z",
     "shell.execute_reply": "2021-09-30T10:46:37.768066Z",
     "shell.execute_reply.started": "2021-07-20T12:04:09.446382Z"
    },
    "papermill": {
     "duration": 0.051313,
     "end_time": "2021-09-30T10:46:37.768249",
     "exception": false,
     "start_time": "2021-09-30T10:46:37.716936",
     "status": "completed"
    },
    "tags": []
   },
   "outputs": [
    {
     "data": {
      "text/plain": [
       "20441.245"
      ]
     },
     "execution_count": 20,
     "metadata": {},
     "output_type": "execute_result"
    }
   ],
   "source": [
    "warehouse[\"order_total\"].quantile(0.75)"
   ]
  },
  {
   "cell_type": "code",
   "execution_count": 21,
   "id": "16bd86bd",
   "metadata": {
    "execution": {
     "iopub.execute_input": "2021-09-30T10:46:38.051882Z",
     "iopub.status.busy": "2021-09-30T10:46:38.051275Z",
     "iopub.status.idle": "2021-09-30T10:46:38.054638Z",
     "shell.execute_reply": "2021-09-30T10:46:38.054049Z",
     "shell.execute_reply.started": "2021-07-20T12:04:09.464232Z"
    },
    "papermill": {
     "duration": 0.05308,
     "end_time": "2021-09-30T10:46:38.054773",
     "exception": false,
     "start_time": "2021-09-30T10:46:38.001693",
     "status": "completed"
    },
    "tags": []
   },
   "outputs": [
    {
     "name": "stdout",
     "output_type": "stream",
     "text": [
      "13299.599999999999\n"
     ]
    }
   ],
   "source": [
    "iqr = warehouse[\"order_total\"].quantile(0.75) - warehouse[\"order_total\"].quantile(0.25) \n",
    "print(iqr)"
   ]
  },
  {
   "cell_type": "code",
   "execution_count": 22,
   "id": "6fe3f91e",
   "metadata": {
    "execution": {
     "iopub.execute_input": "2021-09-30T10:46:38.435307Z",
     "iopub.status.busy": "2021-09-30T10:46:38.434652Z",
     "iopub.status.idle": "2021-09-30T10:46:38.437691Z",
     "shell.execute_reply": "2021-09-30T10:46:38.437046Z",
     "shell.execute_reply.started": "2021-07-20T12:04:09.488597Z"
    },
    "papermill": {
     "duration": 0.05423,
     "end_time": "2021-09-30T10:46:38.437834",
     "exception": false,
     "start_time": "2021-09-30T10:46:38.383604",
     "status": "completed"
    },
    "tags": []
   },
   "outputs": [
    {
     "name": "stdout",
     "output_type": "stream",
     "text": [
      "-12807.754999999997\n",
      "40390.645\n"
     ]
    }
   ],
   "source": [
    "q1 = warehouse[\"order_total\"].quantile(0.25)\n",
    "q3 = warehouse[\"order_total\"].quantile(0.75)\n",
    "\n",
    "lw = q1 - (1.5 * iqr)\n",
    "up = q3 + (1.5 * iqr)\n",
    "print(lw)\n",
    "print(up)"
   ]
  },
  {
   "cell_type": "code",
   "execution_count": 23,
   "id": "6a56b9b5",
   "metadata": {
    "execution": {
     "iopub.execute_input": "2021-09-30T10:46:38.950588Z",
     "iopub.status.busy": "2021-09-30T10:46:38.949590Z",
     "iopub.status.idle": "2021-09-30T10:46:38.956061Z",
     "shell.execute_reply": "2021-09-30T10:46:38.956626Z",
     "shell.execute_reply.started": "2021-07-20T12:04:09.550862Z"
    },
    "papermill": {
     "duration": 0.055961,
     "end_time": "2021-09-30T10:46:38.956811",
     "exception": false,
     "start_time": "2021-09-30T10:46:38.900850",
     "status": "completed"
    },
    "tags": []
   },
   "outputs": [
    {
     "name": "stdout",
     "output_type": "stream",
     "text": [
      "      order_id   customer_id        date nearest_warehouse  \\\n",
      "0    ORD182494  ID6197211592  2019-06-22          thompson   \n",
      "1    ORD395518  ID0282825849  2019-12-29          thompson   \n",
      "2    ORD494479  ID0579391891  2019-03-02         nickolson   \n",
      "3    ORD019224  ID4544561904  2019-01-12         nickolson   \n",
      "4    ORD104032  ID6231506320  2019-11-28         nickolson   \n",
      "..         ...           ...         ...               ...   \n",
      "494  ORD379700  ID2190564628  2019-08-05         nickolson   \n",
      "496  ORD086060  ID0130015098  2019-03-28         nickolson   \n",
      "497  ORD079320  ID2707985442  2019-10-16         nickolson   \n",
      "498  ORD026546  ID0060088412  2019-05-19         nickolson   \n",
      "499  ORD085447  ID5257193650  2019-05-25            bakers   \n",
      "\n",
      "                                         shopping_cart  order_price  \\\n",
      "0    [('Lucent 330S', 1), ('Thunder line', 2), ('iS...        12200   \n",
      "1          [('Thunder line', 1), ('Universe Note', 2)]         9080   \n",
      "2                 [('Thunder line', 1), ('pearTV', 2)]        10670   \n",
      "3    [('Universe Note', 1), ('Alcon 10', 2), ('Oliv...        24800   \n",
      "4    [('Universe Note', 1), ('Olivia x460', 1), ('i...         9145   \n",
      "..                                                 ...          ...   \n",
      "494  [('Candle Inferno', 1), ('Alcon 10', 1), ('Luc...        17510   \n",
      "496  [('pearTV', 2), ('Candle Inferno', 2), ('Toshi...        22120   \n",
      "497  [('pearTV', 1), ('Alcon 10', 1), ('Lucent 330S...        16490   \n",
      "498  [('iStream', 1), ('Candle Inferno', 1), ('iAss...         5030   \n",
      "499  [('iStream', 1), ('Toshika 750', 1), ('Alcon 1...        22370   \n",
      "\n",
      "     delivery_charges  customer_lat  customer_long  coupon_discount  \\\n",
      "0               79.89    -37.815105     144.932843               10   \n",
      "1               62.71    -37.802736     144.951118                0   \n",
      "2               65.87    -37.821302     144.957581               10   \n",
      "3               57.61    -37.811416     144.973073               15   \n",
      "4               75.54     37.823859     144.969892               25   \n",
      "..                ...           ...            ...              ...   \n",
      "494             75.37    -37.816209     144.964057                5   \n",
      "496             62.29    -37.815469     144.968083                0   \n",
      "497            106.98    -37.805979     144.966101                0   \n",
      "498             79.89     37.820071     144.984435               10   \n",
      "499             64.62    -37.812231     144.988679               15   \n",
      "\n",
      "     order_total  season  is_expedited_delivery  \\\n",
      "0       12289.89  Winter                   True   \n",
      "1        9142.71  Summer                  False   \n",
      "2       10745.87  Autumn                  False   \n",
      "3       24872.61  Summer                  False   \n",
      "4        9245.54  Spring                  False   \n",
      "..           ...     ...                    ...   \n",
      "494     17590.37  Winter                   True   \n",
      "496     22182.29  Autumn                   True   \n",
      "497     16596.98  Spring                   True   \n",
      "498      5119.89  Autumn                   True   \n",
      "499     22449.62  Autumn                   True   \n",
      "\n",
      "     distance_to_nearest_warehouse  \\\n",
      "0                           1.2800   \n",
      "1                           1.1621   \n",
      "2                           1.0949   \n",
      "3                           0.8571   \n",
      "4                           0.5867   \n",
      "..                             ...   \n",
      "494                         0.5513   \n",
      "496                         0.3711   \n",
      "497                         1.4368   \n",
      "498                         1.3191   \n",
      "499                         0.6277   \n",
      "\n",
      "                                latest_customer_review  is_happy_customer  \n",
      "0    perfect phone and trusted seller. phone itself...               True  \n",
      "1    it keeps dropping calls the wifi don't work th...              False  \n",
      "2              five stars this is a great cheap phone.               True  \n",
      "3          charger did not fit the charger didn't fit.              False  \n",
      "4                                      four stars good               True  \n",
      "..                                                 ...                ...  \n",
      "494  good quality price ratio bought it for my mom,...               True  \n",
      "496                    one star it was the wrong phone              False  \n",
      "497          love this phone! has many great features!               True  \n",
      "498  spoiled son's birthday present son wanted one ...               True  \n",
      "499  two stars the phone is way smaller then it loo...              False  \n",
      "\n",
      "[484 rows x 16 columns]\n"
     ]
    }
   ],
   "source": [
    "\n",
    "no_out = warehouse[(warehouse[\"order_total\"] >= lw) & (warehouse[\"order_total\"] <= up)]\n",
    "print(no_out)\n",
    "\n",
    "\n",
    "\n"
   ]
  },
  {
   "cell_type": "markdown",
   "id": "aeffba8a",
   "metadata": {},
   "source": [
    "There are 18 records with outliers to remove. "
   ]
  },
  {
   "cell_type": "markdown",
   "id": "ca082f66",
   "metadata": {
    "papermill": {
     "duration": 0.040751,
     "end_time": "2021-09-30T10:46:34.949942",
     "exception": false,
     "start_time": "2021-09-30T10:46:34.909191",
     "status": "completed"
    },
    "tags": []
   },
   "source": [
    "## Explore Data\n",
    "\n",
    "Now that our data is clean, we can answer questions about it!"
   ]
  },
  {
   "cell_type": "markdown",
   "id": "ede2c25e",
   "metadata": {},
   "source": [
    "What is the largest order?"
   ]
  },
  {
   "cell_type": "code",
   "execution_count": 24,
   "id": "bccaf64e",
   "metadata": {
    "execution": {
     "iopub.execute_input": "2021-09-30T10:46:35.835214Z",
     "iopub.status.busy": "2021-09-30T10:46:35.834641Z",
     "iopub.status.idle": "2021-09-30T10:46:35.869183Z",
     "shell.execute_reply": "2021-09-30T10:46:35.868717Z",
     "shell.execute_reply.started": "2021-07-20T12:04:09.24253Z"
    },
    "papermill": {
     "duration": 0.079645,
     "end_time": "2021-09-30T10:46:35.869324",
     "exception": false,
     "start_time": "2021-09-30T10:46:35.789679",
     "status": "completed"
    },
    "tags": []
   },
   "outputs": [
    {
     "data": {
      "text/plain": [
       "947791.82"
      ]
     },
     "execution_count": 24,
     "metadata": {},
     "output_type": "execute_result"
    }
   ],
   "source": [
    "warehouse[\"order_total\"].max()"
   ]
  },
  {
   "cell_type": "markdown",
   "id": "c20e7fb9",
   "metadata": {},
   "source": [
    "What is the smallest order?"
   ]
  },
  {
   "cell_type": "code",
   "execution_count": 25,
   "id": "58e17797",
   "metadata": {
    "execution": {
     "iopub.execute_input": "2021-09-30T10:46:36.059539Z",
     "iopub.status.busy": "2021-09-30T10:46:36.058830Z",
     "iopub.status.idle": "2021-09-30T10:46:36.061550Z",
     "shell.execute_reply": "2021-09-30T10:46:36.062020Z",
     "shell.execute_reply.started": "2021-07-20T12:04:09.283625Z"
    },
    "papermill": {
     "duration": 0.064029,
     "end_time": "2021-09-30T10:46:36.062186",
     "exception": false,
     "start_time": "2021-09-30T10:46:35.998157",
     "status": "completed"
    },
    "tags": []
   },
   "outputs": [
    {
     "data": {
      "text/plain": [
       "701.79"
      ]
     },
     "execution_count": 25,
     "metadata": {},
     "output_type": "execute_result"
    }
   ],
   "source": [
    "warehouse[\"order_total\"].min()"
   ]
  },
  {
   "cell_type": "markdown",
   "id": "b8c3b7c4",
   "metadata": {
    "papermill": {
     "duration": 0.046292,
     "end_time": "2021-09-30T10:46:39.155278",
     "exception": false,
     "start_time": "2021-09-30T10:46:39.108986",
     "status": "completed"
    },
    "tags": []
   },
   "source": [
    "Without outliers, what are the top 5 most expensive orders?"
   ]
  },
  {
   "cell_type": "code",
   "execution_count": 26,
   "id": "43108500",
   "metadata": {
    "execution": {
     "iopub.execute_input": "2021-09-30T10:46:39.268246Z",
     "iopub.status.busy": "2021-09-30T10:46:39.267437Z",
     "iopub.status.idle": "2021-09-30T10:46:39.270670Z",
     "shell.execute_reply": "2021-09-30T10:46:39.271141Z",
     "shell.execute_reply.started": "2021-07-20T12:04:09.570537Z"
    },
    "papermill": {
     "duration": 0.068838,
     "end_time": "2021-09-30T10:46:39.271310",
     "exception": false,
     "start_time": "2021-09-30T10:46:39.202472",
     "status": "completed"
    },
    "tags": []
   },
   "outputs": [
    {
     "data": {
      "text/html": [
       "<div>\n",
       "<style scoped>\n",
       "    .dataframe tbody tr th:only-of-type {\n",
       "        vertical-align: middle;\n",
       "    }\n",
       "\n",
       "    .dataframe tbody tr th {\n",
       "        vertical-align: top;\n",
       "    }\n",
       "\n",
       "    .dataframe thead th {\n",
       "        text-align: right;\n",
       "    }\n",
       "</style>\n",
       "<table border=\"1\" class=\"dataframe\">\n",
       "  <thead>\n",
       "    <tr style=\"text-align: right;\">\n",
       "      <th></th>\n",
       "      <th>order_id</th>\n",
       "      <th>customer_id</th>\n",
       "      <th>date</th>\n",
       "      <th>nearest_warehouse</th>\n",
       "      <th>shopping_cart</th>\n",
       "      <th>order_price</th>\n",
       "      <th>delivery_charges</th>\n",
       "      <th>customer_lat</th>\n",
       "      <th>customer_long</th>\n",
       "      <th>coupon_discount</th>\n",
       "      <th>order_total</th>\n",
       "      <th>season</th>\n",
       "      <th>is_expedited_delivery</th>\n",
       "      <th>distance_to_nearest_warehouse</th>\n",
       "      <th>latest_customer_review</th>\n",
       "      <th>is_happy_customer</th>\n",
       "    </tr>\n",
       "  </thead>\n",
       "  <tbody>\n",
       "    <tr>\n",
       "      <th>390</th>\n",
       "      <td>ORD242864</td>\n",
       "      <td>ID3281126642</td>\n",
       "      <td>2019-04-29</td>\n",
       "      <td>thompson</td>\n",
       "      <td>[('Universe Note', 2), ('iStream', 1), ('Alcon...</td>\n",
       "      <td>37570</td>\n",
       "      <td>79.94</td>\n",
       "      <td>-37.804870</td>\n",
       "      <td>144.961308</td>\n",
       "      <td>0</td>\n",
       "      <td>37649.94</td>\n",
       "      <td>Autumn</td>\n",
       "      <td>True</td>\n",
       "      <td>1.5240</td>\n",
       "      <td>nice little tablet. functional and easy to use...</td>\n",
       "      <td>True</td>\n",
       "    </tr>\n",
       "    <tr>\n",
       "      <th>61</th>\n",
       "      <td>ORD028755</td>\n",
       "      <td>ID0283255338</td>\n",
       "      <td>2019-06-13</td>\n",
       "      <td>bakers</td>\n",
       "      <td>[('iAssist Line', 2), ('pearTV', 2), ('Thunder...</td>\n",
       "      <td>37150</td>\n",
       "      <td>65.32</td>\n",
       "      <td>-37.803982</td>\n",
       "      <td>145.007587</td>\n",
       "      <td>0</td>\n",
       "      <td>37215.32</td>\n",
       "      <td>Winter</td>\n",
       "      <td>True</td>\n",
       "      <td>1.2762</td>\n",
       "      <td>i order google pixel 2xl and it's come google ...</td>\n",
       "      <td>False</td>\n",
       "    </tr>\n",
       "    <tr>\n",
       "      <th>78</th>\n",
       "      <td>ORD347594</td>\n",
       "      <td>ID0332796790</td>\n",
       "      <td>2019-04-01</td>\n",
       "      <td>bakers</td>\n",
       "      <td>[('Lucent 330S', 2), ('pearTV', 2), ('iAssist ...</td>\n",
       "      <td>35205</td>\n",
       "      <td>73.58</td>\n",
       "      <td>-37.808563</td>\n",
       "      <td>145.000167</td>\n",
       "      <td>10</td>\n",
       "      <td>35288.58</td>\n",
       "      <td>Summer</td>\n",
       "      <td>True</td>\n",
       "      <td>0.4624</td>\n",
       "      <td>not as advertised was not actually unlocked an...</td>\n",
       "      <td>False</td>\n",
       "    </tr>\n",
       "    <tr>\n",
       "      <th>454</th>\n",
       "      <td>ORD326400</td>\n",
       "      <td>ID4516157159</td>\n",
       "      <td>2019-12-15</td>\n",
       "      <td>thompson</td>\n",
       "      <td>[('Alcon 10', 2), ('pearTV', 2), ('Thunder lin...</td>\n",
       "      <td>35180</td>\n",
       "      <td>74.12</td>\n",
       "      <td>-37.820657</td>\n",
       "      <td>144.941196</td>\n",
       "      <td>15</td>\n",
       "      <td>35269.12</td>\n",
       "      <td>Spring</td>\n",
       "      <td>False</td>\n",
       "      <td>1.0279</td>\n",
       "      <td>perfecto lo unico malo q demora en llegar, hay...</td>\n",
       "      <td>True</td>\n",
       "    </tr>\n",
       "    <tr>\n",
       "      <th>380</th>\n",
       "      <td>ORD241112</td>\n",
       "      <td>ID3924911400</td>\n",
       "      <td>2019-01-22</td>\n",
       "      <td>nickolson</td>\n",
       "      <td>[('Alcon 10', 2), ('Universe Note', 1), ('pear...</td>\n",
       "      <td>34400</td>\n",
       "      <td>93.70</td>\n",
       "      <td>-37.812620</td>\n",
       "      <td>144.965171</td>\n",
       "      <td>10</td>\n",
       "      <td>34503.70</td>\n",
       "      <td>Summer</td>\n",
       "      <td>True</td>\n",
       "      <td>0.7686</td>\n",
       "      <td>very happy</td>\n",
       "      <td>True</td>\n",
       "    </tr>\n",
       "  </tbody>\n",
       "</table>\n",
       "</div>"
      ],
      "text/plain": [
       "      order_id   customer_id        date nearest_warehouse  \\\n",
       "390  ORD242864  ID3281126642  2019-04-29          thompson   \n",
       "61   ORD028755  ID0283255338  2019-06-13            bakers   \n",
       "78   ORD347594  ID0332796790  2019-04-01            bakers   \n",
       "454  ORD326400  ID4516157159  2019-12-15          thompson   \n",
       "380  ORD241112  ID3924911400  2019-01-22         nickolson   \n",
       "\n",
       "                                         shopping_cart  order_price  \\\n",
       "390  [('Universe Note', 2), ('iStream', 1), ('Alcon...        37570   \n",
       "61   [('iAssist Line', 2), ('pearTV', 2), ('Thunder...        37150   \n",
       "78   [('Lucent 330S', 2), ('pearTV', 2), ('iAssist ...        35205   \n",
       "454  [('Alcon 10', 2), ('pearTV', 2), ('Thunder lin...        35180   \n",
       "380  [('Alcon 10', 2), ('Universe Note', 1), ('pear...        34400   \n",
       "\n",
       "     delivery_charges  customer_lat  customer_long  coupon_discount  \\\n",
       "390             79.94    -37.804870     144.961308                0   \n",
       "61              65.32    -37.803982     145.007587                0   \n",
       "78              73.58    -37.808563     145.000167               10   \n",
       "454             74.12    -37.820657     144.941196               15   \n",
       "380             93.70    -37.812620     144.965171               10   \n",
       "\n",
       "     order_total  season  is_expedited_delivery  \\\n",
       "390     37649.94  Autumn                   True   \n",
       "61      37215.32  Winter                   True   \n",
       "78      35288.58  Summer                   True   \n",
       "454     35269.12  Spring                  False   \n",
       "380     34503.70  Summer                   True   \n",
       "\n",
       "     distance_to_nearest_warehouse  \\\n",
       "390                         1.5240   \n",
       "61                          1.2762   \n",
       "78                          0.4624   \n",
       "454                         1.0279   \n",
       "380                         0.7686   \n",
       "\n",
       "                                latest_customer_review  is_happy_customer  \n",
       "390  nice little tablet. functional and easy to use...               True  \n",
       "61   i order google pixel 2xl and it's come google ...              False  \n",
       "78   not as advertised was not actually unlocked an...              False  \n",
       "454  perfecto lo unico malo q demora en llegar, hay...               True  \n",
       "380                                         very happy               True  "
      ]
     },
     "execution_count": 26,
     "metadata": {},
     "output_type": "execute_result"
    }
   ],
   "source": [
    "no_out.nlargest(5, \"order_total\")"
   ]
  },
  {
   "cell_type": "markdown",
   "id": "c14830a4",
   "metadata": {},
   "source": [
    "What warehouse is the closest to most customers? Create a visualization."
   ]
  },
  {
   "cell_type": "code",
   "execution_count": 41,
   "id": "f69671eb",
   "metadata": {},
   "outputs": [
    {
     "data": {
      "image/png": "[encoded data removed]",
      "text/plain": [
       "<Figure size 640x480 with 1 Axes>"
      ]
     },
     "metadata": {},
     "output_type": "display_data"
    }
   ],
   "source": [
    "import matplotlib.pyplot as plt\n",
    "\n",
    "warehouse_counts = no_out[\"nearest_warehouse\"].value_counts()\n",
    "y = warehouse_counts.values\n",
    "x = no_out.nearest_warehouse.unique()\n",
    "colors = [\"green\", \"blue\", \"purple\"]\n",
    "plt.bar(x, y, color=colors[:len(x)])\n",
    "plt.xlabel(\"Warehouses\", fontweight=\"bold\")\n",
    "plt.ylabel(\"Number of Customers\", fontweight=\"bold\")\n",
    "plt.title(\"Nearest Warehouse to customers\", fontweight=\"bold\")\n",
    "plt.show()\n",
    "\n"
   ]
  },
  {
   "cell_type": "markdown",
   "id": "b798905e",
   "metadata": {},
   "source": [
    "What percentage of customers are satisfied with their purchase? Create a visualization."
   ]
  },
  {
   "cell_type": "code",
   "execution_count": 39,
   "id": "bf1527f4",
   "metadata": {},
   "outputs": [
    {
     "name": "stdout",
     "output_type": "stream",
     "text": [
      "[0.7128099173553719, 0.2871900826446281]\n"
     ]
    },
    {
     "data": {
      "image/png": "[encoded data removed]",
      "text/plain": [
       "<Figure size 640x480 with 1 Axes>"
      ]
     },
     "metadata": {},
     "output_type": "display_data"
    }
   ],
   "source": [
    "labels = [\"Satisfied\", \"Not Satisfied\"]\n",
    "tru = (no_out[\"is_happy_customer\"] == True).sum() / len(no_out)\n",
    "fal = (no_out[\"is_happy_customer\"] == False).sum() / len(no_out)\n",
    "x = [tru, fal]\n",
    "print(x)\n",
    "e = (0.1, 0)\n",
    "plt.pie(x, explode = e, autopct= \"%1.1f%%\")\n",
    "plt.title(\"Satisfied Customers\")\n",
    "plt.legend(labels, title = \"Legend\", loc=\"upper right\", fontsize = 10)\n",
    "plt.show()\n"
   ]
  }
 ],
 "metadata": {
  "kernelspec": {
   "display_name": "Python 3",
   "language": "python",
   "name": "python3"
  },
  "language_info": {
   "codemirror_mode": {
    "name": "ipython",
    "version": 3
   },
   "file_extension": ".py",
   "mimetype": "text/x-python",
   "name": "python",
   "nbconvert_exporter": "python",
   "pygments_lexer": "ipython3",
   "version": "3.12.3"
  },
  "papermill": {
   "default_parameters": {},
   "duration": 16.690709,
   "end_time": "2021-09-30T10:46:40.950850",
   "environment_variables": {},
   "exception": null,
   "input_path": "__notebook__.ipynb",
   "output_path": "__notebook__.ipynb",
   "parameters": {},
   "start_time": "2021-09-30T10:46:24.260141",
   "version": "2.3.3"
  }
 },
 "nbformat": 4,
 "nbformat_minor": 5
}
